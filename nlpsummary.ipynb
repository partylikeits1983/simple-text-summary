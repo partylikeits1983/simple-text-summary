{
 "cells": [
  {
   "cell_type": "code",
   "execution_count": 1,
   "id": "focused-master",
   "metadata": {},
   "outputs": [
    {
     "data": {
      "application/vnd.jupyter.widget-view+json": {
       "model_id": "5da1ae0ec299438db904f618bdd76e18",
       "version_major": 2,
       "version_minor": 0
      },
      "text/plain": [
       "Downloading:   0%|          | 0.00/1.65k [00:00<?, ?B/s]"
      ]
     },
     "metadata": {},
     "output_type": "display_data"
    }
   ],
   "source": [
    "from transformers import pipeline\n",
    "\n",
    "# using pipeline API for summarization task\n",
    "summarization = pipeline(\"summarization\")\n"
   ]

  {
   "cell_type": "code",
   "execution_count": 3,
   "id": "black-victorian",
   "metadata": {},
   "outputs": [],
   "source": [
    "original_text = \"\"\"\n",
    "Retail Sales, Manufacturing Slip Ahead of Expected Spring Rebound - WSJ\n",
    "\n",
    "U.S. ECONOMY\n",
    "\n",
    "Retail Sales, Manufacturing Slip Ahead of Expected\n",
    "Spring Rebound\n",
    "U.S. shoppers pulled back and factories produced less in February due to winter weather and supplychain disruptions\n",
    "\n",
    "U.S. retailers and manufacturers slumped in February due to winter storms and supplychain disruptions, but a broader economic rebound appears poised to accelerate this\n",
    "spring because of the easing pandemic and another round of government stimulus.\n",
    "Retail sales—a measure of purchases at stores, at restaurants and online—fell by 3% in\n",
    "February compared with the prior month, the Commerce Department said Tuesday. The\n",
    "decline followed robust January sales that were propelled by stimulus payments to\n",
    "households from the December pandemic-relief package. January sales advanced a\n",
    "revised 7.6%, up from the earlier estimate of a 5.3% increase.\n",
    "\n",
    "Severe winter weather wreaked havoc across a large swath of the U.S., aﬀecting retail\n",
    "shopping and manufacturing output last month. The Federal Reserve separately said\n",
    "industrial production fell a seasonally adjusted 2.2% in February compared with January.\n",
    "Manufacturing, the largest component in the industrial-production index, drove the\n",
    "decline because of the weather disruptions and supply shortages in semiconductors for\n",
    "autos, the Fed said.\n",
    "\n",
    "Consumers meanwhile spent less on autos, furniture, electronics, home improvement,\n",
    "healthcare and clothing. Sales at food and beverage stores were unchanged, while sales at\n",
    "gas stations were up strongly, by 3.6%, as gas prices have accelerated this year.\n",
    "Despite the February decline, retail sales were up 6% over the last three months compared\n",
    "with the same period a year earlier, according to the Commerce Department.\n",
    "February is typically a quiet month for retail sales, as stores gear up for the spring selling\n",
    "season, including Easter. Economists expect spending to accelerate in the coming months\n",
    "as additional government stimulus is distributed and Covid-19 vaccinations lead to a\n",
    "corresponding decline in cases and pickup in employment levels as businesses open up\n",
    "more fully.\n",
    "\n",
    "The upwardly revised January sales ﬁgures “took the sting out of the negative surprise”\n",
    "in the February data, Aneta Markowska and Thomas Simons, economists at Jeﬀeries LLC,said in a research note.\n",
    "\n",
    "Federal stimulus checks, which many households will receive as part of the $1.9 trillion\n",
    "coronavirus aid plan signed into law last week, create “a massive tailwind for consumer\n",
    "demand this spring,” the economists said.\n",
    "\n",
    "“The checks will coincide with broadening vaccine distribution and warmer weather,\n",
    "which will accelerate the return of high-contact activity, providing more avenues for\n",
    "consumers to spend their stimulus payments,” they added.\n",
    "JPMorgan Chase & Co.’s tracker of credit- and debit-card transactions showed consumer\n",
    "spending on a seasonally adjusted basis climbed in early March after dropping oﬀ in\n",
    "February.\n",
    "\n",
    "Other signals of a pickup in the economic recovery have emerged. After cutting workers at\n",
    "the end of 2020, U.S. employers added 379,000 jobs in February, and the unemployment\n",
    "rate ticked down to 6.2%. The U.S. manufacturing industry has shown steady signs of\n",
    "expansion.\n",
    "\n",
    "Richard Woolley, owner at Weathered Vineyards in New Tripoli, Pa., said he was\n",
    "optimistic about the outlook for business as warmer months approach and federal\n",
    "stimulus eﬀorts permeate the economy.\n",
    "\n",
    "“You can’t pump trillions of dollars into the U.S. economy and not have some of it land\n",
    "here,” he said. “People will spend it. We’ll see some feedback from that at some point and\n",
    "that will probably lead to an OK 2021.”\n",
    "He said February was a slow month for sales, with revenue at the winery during\n",
    "Valentine’s Day weekend down 50% compared with last year. Mr. Woolley said the\n",
    "business is currently relying on curbside pickups and outdoor service, because of state\n",
    "coronavirus mandates that restrict its ability to hold wine tastings indoors. Cold weather\n",
    "last month damped the number of customers willing to sit outside, he added.\n",
    "\n",
    "\"\"\""
   ]
  },
  {
   "cell_type": "code",
   "execution_count": 4,
   "id": "julian-measurement",
   "metadata": {},
   "outputs": [
    {
     "name": "stdout",
     "output_type": "stream",
     "text": [
      "Summary:  U.S. retailers and manufacturers slumped in February due to winter storms and supplychain disruptions . But a broader economic rebound appears poised to accelerate this spring because of the easing pandemic and another round of government stimulus . Retail sales fell by 3% in February compared with the prior month, the Commerce Department said Tuesday .\n"
     ]
    }
   ],
   "source": [
    "summary_text = summarization(original_text)[0]['summary_text']\n",
    "print(\"Summary:\", summary_text)"
   ]
  },
  {
   "cell_type": "code",
   "execution_count": null,
   "id": "reserved-study",
   "metadata": {},
   "outputs": [],
   "source": []
  },
  {
   "cell_type": "code",
   "execution_count": null,
   "id": "floppy-advice",
   "metadata": {},
   "outputs": [],
   "source": []
  },
  {
   "cell_type": "code",
   "execution_count": 5,
   "id": "starting-annex",
   "metadata": {},
   "outputs": [],
   "source": [
    "from transformers import T5ForConditionalGeneration, T5Tokenizer\n",
    "\n",
    "# initialize the model architecture and weights\n",
    "model = T5ForConditionalGeneration.from_pretrained(\"t5-large\")\n",
    "# initialize the model tokenizer\n",
    "tokenizer = T5Tokenizer.from_pretrained(\"t5-large\")"
   ]
  },
  {
   "cell_type": "code",
   "execution_count": 6,
   "id": "beginning-pierre",
   "metadata": {},
   "outputs": [],
   "source": [
    "article = open('/Users/alexanderlee/Desktop/0.txt', 'r').read()"
   ]
  },
  {
   "cell_type": "code",
   "execution_count": 7,
   "id": "reflected-deputy",
   "metadata": {},
   "outputs": [],
   "source": [
    "article = '''\n",
    "A U.S. intelligence report found foreign attempts to in luence voters, shown Nov. 3, but no signs of\n",
    "attempts to alter ballots.\n",
    "PHOTO: STEVE HELBER ASSOCIATED PRESS\n",
    "\n",
    "WASHINGTON—The leaders of Russia and Iran last year ordered their governments to\n",
    "attempt to inﬂuence U.S. voters’ choices in the presidential election and undermine the\n",
    "public’s faith in American democracy, a U.S. intelligence assessment released Tuesday\n",
    "said.\n",
    "Russian President Vladimir Putin authorized a range of intelligence operations intended\n",
    "to hurt Joe Biden’s presidential campaign and support President Trump’s re-election,\n",
    "while Iran’s Supreme Leader Ayatollah Ali Khamenei approved a digital scheme to undercut Mr. Trump’s re-election bid, the declassiﬁed report from the Oﬃce of the\n",
    "Director of National Intelligence said.\n",
    "China didn’t undertake an eﬀort to inﬂuence voters, considering but ultimately forgoing\n",
    "one because neither candidate appeared suﬃciently favorable to Beijing to risk its being\n",
    "caught by the U.S., the report said. The report also found that Cuba, Venezuela and the\n",
    "militant group Hezbollah took some steps to inﬂuence the election as well, though it\n",
    "described those as generally smaller in scale to Russia’s and Iran’s meddling.\n",
    "\n",
    "Russian President Vladimir Putin authorized operations to a ect the U.S. presidential election, an\n",
    "intelligence report said.\n",
    "\n",
    "The report released Tuesday said intelligence agencies had high conﬁdence in their\n",
    "ﬁndings, though it speciﬁcally doesn’t include any assessment of how much the alleged\n",
    "foreign meddling aﬀected the election. It marked the ﬁrst time the U.S. blamed Mr. Putin\n",
    "and Ayatollah Khamanei for their nation’s eﬀorts to meddle in the 2020 presidential\n",
    "contest, though Mr. Putin had previously been accused of orchestrating a morecomprehensive interference operation in 2016. That operation included the hack and leak\n",
    "of Democratic emails and was intended to bolster Mr. Trump, according to U.S.\n",
    "intelligence agencies and a bipartisan Senate review.\n",
    "The report described Moscow’s election-interference attempts as the most organized and\n",
    "substantial of all the nations that took aim at the U.S. vote. The eﬀorts, which it said began\n",
    "as early as 2014, involved social-media trolls, laundered intelligence and a network of\n",
    "Russia-aligned operatives who met with people connected to the Trump administration\n",
    "and others and were centered largely around an eﬀort to portray Mr. Biden and his family\n",
    "as having corrupt ties to Ukraine.\n",
    "“Russian state and proxy actors who all serve the Kremlin’s interests worked to aﬀect U.S.\n",
    "public perceptions in a consistent manner,” it said.\n",
    "Despite the various foreign campaigns, however, the report said U.S. intelligence oﬃcials\n",
    "had found no indications any foreign actor had attempted to alter “any technical aspect of\n",
    "the voting process in the 2020 U.S. elections,” including voter registration systems,\n",
    "individual ballots, vote tabulation systems or the reporting of results. The ﬁnding is a\n",
    "tacit rebuke of unfounded claims repeatedly made by Mr. Trump and some of his allies\n",
    "that the election was stolen. A separate report released Tuesday by the Homeland\n",
    "Security and Justice departments said the U.S. government had no evidence “that a\n",
    "foreign government or other actors compromised election infrastructure to manipulate\n",
    "election results.”\n",
    "U.S. intelligence agencies identiﬁed some successful compromises of state and local\n",
    "government computer networks before Election Day that they attributed to Russia, as\n",
    "well as a larger volume of unsuccessful attempts, the report said. Those attempts didn’t\n",
    "appear intended to alter actual vote counts, the report noted, adding that Russia, Iran and\n",
    "others prefer to amplify false or inﬂated claims about hacked voting systems to diminish\n",
    "public conﬁdence in the election.\n",
    "The 15-page intelligence assessment is the ﬁrst oﬃcial U.S. government ﬁnding about\n",
    "foreign interference in the 2020 presidential campaign to be made public since votes were\n",
    "cast in November. It characterizes China’s actions as less signiﬁcant than earlier public\n",
    "assessments delivered during the Trump administration, which prompted Democrats and\n",
    "some oﬃcials to say Beijing’s inﬂuence activity was being politicized.\n",
    "The Biden administration has pledged forceful responses to what it has described as a\n",
    "series of malign activities by Moscow, which beyond the 2016 and 2020 election meddling\n",
    "include the poisoning of Russian opposition leader Alexei Navalny and a hack of federal\n",
    "government systems. The report largely aﬃrms previous assessments dating back to last\n",
    "summer about Russia’s and Iran’s actions and intentions. It doesn’t discuss domestic\n",
    "disinformation, which many U.S. security oﬃcials said grew into a greater concern than\n",
    "foreign threats in the ﬁnal months of the 2020 election cycle and during the presidential\n",
    "transition.\n",
    "Russia’s government, the report said, viewed President Biden’s election as\n",
    "disadvantageous to the nation’s interests relative to President Trump’s re-election. It\n",
    "reported that Russian oﬃcials frequently attacked Mr. Biden in Russian media, especially over his role in leading Ukraine policy during the Obama administration and his support\n",
    "for anti-Putin ﬁgures.\n",
    "“Putin probably also considers President Biden more apt to echo the idea of American\n",
    "‘exceptionalism,’ which he and other Kremlin leaders have often publicly criticized as\n",
    "problematic and dangerous,” the report read.\n",
    "Russia’s eﬀorts to inﬂuence the vote relied on proxies linked to Russian intelligence\n",
    "services, which promoted “inﬂuence narratives—including misleading or\n",
    "unsubstantiated allegations against President Biden—to U.S. media organizations, U.S.\n",
    "oﬃcials, and prominent U.S. individuals, including some close to former President Trump\n",
    "and his administration.”\n",
    "The report said Mr. Putin had purview over operations including the activities of Andriy\n",
    "Derkach, a Ukrainian lawmaker sanctioned by the U.S. Treasury Department in\n",
    "September, and Konstantin Kilimnik, whom the U.S. Senate Intelligence Committee\n",
    "identiﬁed as a Russian intelligence oﬃcer.\n",
    "Mr. Derkach tried to surface information about then-candidate Joe Biden’s purported\n",
    "involvement in his son Hunter’s business in Ukraine, and the information was pursued by\n",
    "Mr. Trump’s close ally, Rudy Giuliani. Mr. Derkach has previously rejected similar\n",
    "allegations.\n",
    "Mr. Kilimnik and others “took steps throughout the election cycle to damage U.S. ties to\n",
    "Ukraine, denigrate President Biden and his candidacy, and beneﬁt former President\n",
    "Trump’s prospects” for re-election, the report said. Mr. Kilimnik has denied ties with\n",
    "Moscow’s security services.\n",
    "\n",
    "Democrats said the new intelligence report reaﬃrmed that Russia remains the top foreign\n",
    "threat seeking to undermine U.S. democracy.\n",
    "Beijing, meanwhile, sees a bipartisan U.S. consensus against China that leaves “no\n",
    "prospect” for a pro-China administration, and saw little to be gained by trying to sway the\n",
    "vote one way or another, the report found.\n",
    "“Beijing probably judged that Russia’s eﬀort to interfere in the 2016 election signiﬁcantly\n",
    "damaged Moscow’s position and relationship with the United States and may have\n",
    "worried that Washington would uncover a Chinese attempt to deploy similar measures,”\n",
    "it said.\n",
    "One senior U.S. intelligence oﬃcial involved in preparing the report dissented from its\n",
    "conclusions that China made no eﬀort to inﬂuence the 2020 presidential election.\n",
    "Ayatollah Khamenei, the report said, probably authorized a “whole of government eﬀort”\n",
    "that included spear-phishing strikes on government and campaign oﬃcials and a\n",
    "campaign to send threatening emails to Democratic voters that appeared falsely to be\n",
    "from the far-right Proud Boys group. The Iranian cyber campaign relied on inexpensive,\n",
    "scalable methods that didn’t require physical access to the U.S., the report found.\n",
    "\n",
    "'''"
   ]
  },
  {
   "cell_type": "code",
   "execution_count": 53,
   "id": "traditional-insight",
   "metadata": {},
   "outputs": [],
   "source": [
    "# encode the text into tensor of integers using the appropriate tokenizer\n",
    "inputs = tokenizer.encode(\"summarize: \" + article, return_tensors=\"pt\", max_length=512, truncation=True)\n"
   ]
  },
  {
   "cell_type": "code",
   "execution_count": 54,
   "id": "mediterranean-cannon",
   "metadata": {},
   "outputs": [
    {
     "name": "stdout",
     "output_type": "stream",
     "text": [
      "tensor([[    0,   934,    10,  2440,    13,  4623,    11,  7449,  5563,    70,\n",
      "         10524,    12,   653,    12,  2860, 10861,     3,     5,   934,    10,\n",
      "            79,  1971,    12,  4781,  4967,  2647,   537,    31,     7,  2066,\n",
      "            11,   380,  2753,     3,  2666,  1167,    31,     7,     3,    60,\n",
      "            18,    15, 12252,     3,     5,   934,    10, 13052,     6, 17841,\n",
      "            11,     8, 20026,   563,     3,    88,   172,  4243,   521,   107,\n",
      "           808,   128,  2245,    12,  2860, 10861,     3,     5,   934,    10,\n",
      "           150,  3957,    13,  9048,    12,  8310, 16524,     7,     6,   713,\n",
      "            34,    31,     7,    59,   964,   149,   231,     3,    15,    75,\n",
      "            17,     3, 18229,  4356,     3,     5,     3,    76,     5,     7,\n",
      "             5,  6123,  4299,   141,   306,  3410,    16,    70,  7469,     6,\n",
      "           934,   845,     3,     5,     1]])\n",
      "<pad> report: leaders of Russia and Iran ordered their governments to try to influence voters. report: they tried to hurt Joe biden's campaign and support president trump's re-election. report: Cuba, Venezuela and the militant group hezbollah took some steps to influence voters. report: no signs of attempts to alter ballots, though it's not clear how much ect impacted election. u.s. intelligence agencies had high confidence in their findings, report says.</s>\n"
     ]
    }
   ],
   "source": [
    "# generate the summarization output\n",
    "outputs = model.generate(\n",
    "    inputs, \n",
    "    max_length=250, \n",
    "    min_length=110, \n",
    "    length_penalty=4.0, \n",
    "    num_beams=4, \n",
    "    early_stopping=True)\n",
    "# just for debugging\n",
    "print(outputs)\n",
    "print(tokenizer.decode(outputs[0]))"
   ]
  },
  {
   "cell_type": "code",
   "execution_count": null,
   "id": "nervous-photographer",
   "metadata": {},
   "outputs": [],
   "source": []
  }
 ],
 "metadata": {
  "kernelspec": {
   "display_name": "Python 3",
   "language": "python",
   "name": "python3"
  },
  "language_info": {
   "codemirror_mode": {
    "name": "ipython",
    "version": 3
   },
   "file_extension": ".py",
   "mimetype": "text/x-python",
   "name": "python",
   "nbconvert_exporter": "python",
   "pygments_lexer": "ipython3",
   "version": "3.9.2"
  }
 },
 "nbformat": 4,
 "nbformat_minor": 5
}
